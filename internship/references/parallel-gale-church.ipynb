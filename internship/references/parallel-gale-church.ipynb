{
 "cells": [
  {
   "cell_type": "markdown",
   "metadata": {},
   "source": [
    "# Sentence alignment with the Gale-Church algorithm"
   ]
  },
  {
   "cell_type": "markdown",
   "metadata": {},
   "source": [
    "## Load NLTK and a sample of the Europarl parallel corpus"
   ]
  },
  {
   "cell_type": "code",
   "execution_count": 1,
   "metadata": {
    "collapsed": false
   },
   "outputs": [],
   "source": [
    "import os\n",
    "import nltk\n",
    "from nltk.translate import gale_church\n",
    "if 'europarl_raw.zip' not in os.listdir( nltk.data.find(\"corpora\") ):\n",
    "    nltk.download('europarl_raw')\n",
    "from nltk.corpus.europarl_raw import german, english\n",
    "from nltk.corpus import comtrans\n",
    "english.ensure_loaded()\n",
    "german.ensure_loaded()"
   ]
  },
  {
   "cell_type": "markdown",
   "metadata": {},
   "source": [
    "## Each monolingual corpus is divided into chapters"
   ]
  },
  {
   "cell_type": "code",
   "execution_count": 2,
   "metadata": {
    "collapsed": false
   },
   "outputs": [
    {
     "name": "stdout",
     "output_type": "stream",
     "text": [
      "Number of chapters:\n",
      "(81, 90)\n",
      "Number of sentences per chapter:\n",
      "(65, 71)\n",
      "(111, 116)\n",
      "(89, 95)\n",
      "(84, 86)\n"
     ]
    }
   ],
   "source": [
    "print('Number of chapters:')\n",
    "print((len(english.chapters()), len(german.chapters())))\n",
    "print('Number of sentences per chapter:')\n",
    "for i in range(4):\n",
    "    print((len(english.chapters()[i]), len(german.chapters()[i])))"
   ]
  },
  {
   "cell_type": "markdown",
   "metadata": {},
   "source": [
    "## Look at the first sentences of a few chapters"
   ]
  },
  {
   "cell_type": "code",
   "execution_count": 3,
   "metadata": {
    "collapsed": true
   },
   "outputs": [],
   "source": [
    "def show_chap_sent(lang, chap, sent):\n",
    "    \"\"\"Print the first SENT sentences in chapter CHAP of language LANG\"\"\"\n",
    "    for i, s in enumerate(lang.chapters()[chap][:sent]):\n",
    "        print('{}\\t{}'.format(i, ' '.join(s)))"
   ]
  },
  {
   "cell_type": "code",
   "execution_count": 4,
   "metadata": {
    "collapsed": false
   },
   "outputs": [
    {
     "name": "stdout",
     "output_type": "stream",
     "text": [
      "First two sentences of each of the first three chapters:\n",
      "\n",
      "Chapter 0\n",
      "English\n",
      "0\tResumption of the session I declare resumed the session of the European Parliament adjourned on Friday 17 December 1999 , and I would like once again to wish you a happy new year in the hope that you enjoyed a pleasant festive period .\n",
      "1\tAlthough , as you will have seen , the dreaded ' millennium bug ' failed to materialise , still the people in a number of countries suffered a series of natural disasters that truly were dreadful .\n",
      "German\n",
      "0\tWiederaufnahme der Sitzungsperiode Ich erkläre die am Freitag , dem 17. Dezember unterbrochene Sitzungsperiode des Europäischen Parlaments für wiederaufgenommen , wünsche Ihnen nochmals alles Gute zum Jahreswechsel und hoffe , daß Sie schöne Ferien hatten .\n",
      "1\tWie Sie feststellen konnten , ist der gefürchtete \" Millenium-Bug \" nicht eingetreten .\n",
      "\n",
      "Chapter 1\n",
      "English\n",
      "0\tAgenda The next item is the verification of the final version of the draft agenda as drawn up by the Conference of Presidents at its meeting of 13 January pursuant to Rule 110 of the Rules of Procedure .\n",
      "1\tNo amendments have been proposed relating to Monday and Tuesday .\n",
      "German\n",
      "0\tArbeitsplan Nach der Tagesordnung folgt die Prüfung des endgültigen Entwurfs der Tagesordnung , wie er nach Artikel 110 der Geschäftsordnung am Donnerstag , dem 13. Januar von der Konferenz der Präsidenten festgelegt wurde .\n",
      "1\tZu Montag und Dienstag liegen keine Änderungen vor .\n",
      "\n",
      "Chapter 2\n",
      "English\n",
      "0\tSafety advisers for the transport of dangerous goods The next item is the report ( A5-0105 / 1999 ) by Mr Koch , on behalf of the Committee on Regional Policy , Transport and Tourism , on the common position adopted by the Council with a view to adopting a European Parliament and Council directive on the harmonisation of examination requirements for safety advisers for the transport of dangerous goods by road , rail or inland waterways ( C5-0208 / 1999 - 1998 / 0106 ( COD ) ) .\n",
      "1\tCommissioner , Madam President , ladies and gentlemen , I can be quite frank in saying that I welcome the Council 's common position on harmonising the training of safety advisers for the transport of dangerous goods by road , rail or inland waterway .\n",
      "German\n",
      "0\tSicherheitsberater für den Gefahrguttransport Nach der Tagesordnung folgt der Bericht ( A5-0105 / 1999 ) von Herrn Koch im Namen des Ausschusses für Regionalpolitik , Verkehr und Fremdenverkehr über den Gemeinsamen Standpunkt des Rates im Hinblick auf den Erlaß der Richtlinie des Europäischen Parlaments und des Rates über die Mindestanforderungen für die Prüfung der Sicherheitsberater für die Beförderung gefährlicher Güter auf Straße , Schiene oder Binnenwasserstraßen ( C5-0208 / 1999 - 1998 / 0106 ( COD ) ) .\n",
      "1\tVerehrte Frau Kommissarin , verehrte Präsidentin , liebe Kolleginnen und Kollegen !\n"
     ]
    }
   ],
   "source": [
    "print('First two sentences of each of the first three chapters:')\n",
    "for c in range(3):\n",
    "    print(\"\\nChapter {}\".format(c))\n",
    "    print('English')\n",
    "    show_chap_sent(english, c, 2)\n",
    "    print('German')\n",
    "    show_chap_sent(german, c, 2)"
   ]
  },
  {
   "cell_type": "markdown",
   "metadata": {},
   "source": [
    "## The Gale-Church algorithm takes as input the lengths of the input sentences"
   ]
  },
  {
   "cell_type": "code",
   "execution_count": 5,
   "metadata": {
    "collapsed": false
   },
   "outputs": [
    {
     "name": "stdout",
     "output_type": "stream",
     "text": [
      "[44, 37, 21, 47, 12, 21, 24, 27, 53, 21]\n",
      "[36, 14, 12, 17, 37, 11, 10, 6, 22, 35, 60, 16]\n"
     ]
    }
   ],
   "source": [
    "def csl(lang, chap, sent=None):\n",
    "    \"\"\"Compute the lengths of the first SENT sentences in chapter CHAP of language LANG\"\"\"\n",
    "    if sent is None:\n",
    "        sent = len(lang.chapters())\n",
    "    return [len(s) for s in lang.chapters()[chap][:sent]]\n",
    "\n",
    "print(csl(english, 0, 10))\n",
    "print(csl(german, 0, 12))"
   ]
  },
  {
   "cell_type": "code",
   "execution_count": 6,
   "metadata": {
    "collapsed": false
   },
   "outputs": [
    {
     "name": "stdout",
     "output_type": "stream",
     "text": [
      "-------------------------------------------- ------------------------------------- --------------------- ----------------------------------------------- ------------ --------------------- ------------------------ --------------------------- ----------------------------------------------------- ---------------------\n",
      "++++++++++++++++++++++++++++++++++++ ++++++++++++++ ++++++++++++ +++++++++++++++++ +++++++++++++++++++++++++++++++++++++ +++++++++++ ++++++++++ ++++++ ++++++++++++++++++++++ +++++++++++++++++++++++++++++++++++ ++++++++++++++++++++++++++++++++++++++++++++++++++++++++++++ ++++++++++++++++\n",
      "\n",
      "--------------------------------------- ----------- ------------------------------------- ------------------ ----------- ----------------- ------------------------------------------------------------ ---------------------------------------- --------------------------- ---------------------------\n",
      "++++++++++++++++++++++++++++++++++ +++++++++ ++++++++++++++++++++++++++++++++ +++++++++++++++++++ +++++++++++++ +++ ++++++++++++++++++++++++++++++++++++++++++++++++++++ ++++++++++++++++++++++++++++++++++++++ +++++++++++++++++++++++++++++++++++++++++++++++++++++++++ ++++++++++++++++++++++++++ +++++++++++++++++++++++++ ++++++++++++++++++++++++++++++++++++++++++++++++++++++++++\n"
     ]
    }
   ],
   "source": [
    "def csl_show(lang, chap, sent=None, c=\"x\"):\n",
    "    \"\"\"Show the lengths of the first SENT sentences in chapter CHAP of language LANG\"\"\"\n",
    "    if sent is None:\n",
    "        sent = len(lang.chapters())\n",
    "    return \" \".join([c*len(s) for s in lang.chapters()[chap][:sent]])\n",
    "\n",
    "print(csl_show(english, 0, 10, c=\"-\"))\n",
    "print(csl_show(german, 0, 12, c=\"+\"))\n",
    "print()\n",
    "print(csl_show(english, 1, 10, c=\"-\"))\n",
    "print(csl_show(german, 1, 12, c=\"+\"))"
   ]
  },
  {
   "cell_type": "markdown",
   "metadata": {},
   "source": [
    "## Run and show the alignment on the first N English sentences vs the first M German sentences"
   ]
  },
  {
   "cell_type": "code",
   "execution_count": 7,
   "metadata": {
    "collapsed": false
   },
   "outputs": [],
   "source": [
    "def align_and_show(chap, s1, s2):\n",
    "    a = gale_church.align_blocks(csl(english, chap, s1), csl(german, chap, s2))\n",
    "    print(\"Alignment of sentences English[{}][0:{}] to sentences German[{}][0:{}]:\\n{}\".format(chap, s1, chap, s2, a))\n",
    "    al = {}\n",
    "    for (e, g) in a:\n",
    "        if e not in al: al[e] = []\n",
    "        al[e].append(g)\n",
    "    all = [(k, al[k]) for k in sorted(al.keys())]\n",
    "    print(\"Mappings from English sentences\")\n",
    "    for (k, v) in all:\n",
    "        print(\"{} -> {}\".format(k, v))\n",
    "    print(\"\\nText of the aligned sentences:\")\n",
    "    for (i, v) in all:\n",
    "        print(\"{} {}\\n---\".format(i, \" \".join(english.chapters()[chap][i])))\n",
    "        for j in v:\n",
    "            print(\"{} {}\".format(j, \" \".join(german.chapters()[chap][j])))\n",
    "        print()"
   ]
  },
  {
   "cell_type": "markdown",
   "metadata": {},
   "source": [
    "### Run the alignment on the first 10 English sentences vs the first 12 German sentences of Chapter 0"
   ]
  },
  {
   "cell_type": "code",
   "execution_count": 8,
   "metadata": {
    "collapsed": false
   },
   "outputs": [
    {
     "name": "stdout",
     "output_type": "stream",
     "text": [
      "Alignment of sentences English[0][0:10] to sentences German[0][0:12]:\n",
      "[(0, 0), (1, 1), (1, 2), (2, 3), (3, 4), (4, 5), (5, 6), (5, 7), (6, 8), (7, 9), (8, 10), (9, 11)]\n",
      "Mappings from English sentences\n",
      "0 -> [0]\n",
      "1 -> [1, 2]\n",
      "2 -> [3]\n",
      "3 -> [4]\n",
      "4 -> [5]\n",
      "5 -> [6, 7]\n",
      "6 -> [8]\n",
      "7 -> [9]\n",
      "8 -> [10]\n",
      "9 -> [11]\n",
      "\n",
      "Text of the aligned sentences:\n",
      "0 Resumption of the session I declare resumed the session of the European Parliament adjourned on Friday 17 December 1999 , and I would like once again to wish you a happy new year in the hope that you enjoyed a pleasant festive period .\n",
      "---\n",
      "0 Wiederaufnahme der Sitzungsperiode Ich erkläre die am Freitag , dem 17. Dezember unterbrochene Sitzungsperiode des Europäischen Parlaments für wiederaufgenommen , wünsche Ihnen nochmals alles Gute zum Jahreswechsel und hoffe , daß Sie schöne Ferien hatten .\n",
      "\n",
      "1 Although , as you will have seen , the dreaded ' millennium bug ' failed to materialise , still the people in a number of countries suffered a series of natural disasters that truly were dreadful .\n",
      "---\n",
      "1 Wie Sie feststellen konnten , ist der gefürchtete \" Millenium-Bug \" nicht eingetreten .\n",
      "2 Doch sind Bürger einiger unserer Mitgliedstaaten Opfer von schrecklichen Naturkatastrophen geworden .\n",
      "\n",
      "2 You have requested a debate on this subject in the course of the next few days , during this part-session .\n",
      "---\n",
      "3 Im Parlament besteht der Wunsch nach einer Aussprache im Verlauf dieser Sitzungsperiode in den nächsten Tagen .\n",
      "\n",
      "3 In the meantime , I should like to observe a minute ' s silence , as a number of Members have requested , on behalf of all the victims concerned , particularly those of the terrible storms , in the various countries of the European Union .\n",
      "---\n",
      "4 Heute möchte ich Sie bitten - das ist auch der Wunsch einiger Kolleginnen und Kollegen - , allen Opfern der Stürme , insbesondere in den verschiedenen Ländern der Europäischen Union , in einer Schweigeminute zu gedenken .\n",
      "\n",
      "4 Please rise , then , for this minute ' s silence .\n",
      "---\n",
      "5 Ich bitte Sie , sich zu einer Schweigeminute zu erheben .\n",
      "\n",
      "5 ( The House rose and observed a minute ' s silence ) Madam President , on a point of order .\n",
      "---\n",
      "6 ( Das Parlament erhebt sich zu einer Schweigeminute . )\n",
      "7 Frau Präsidentin , zur Geschäftsordnung .\n",
      "\n",
      "6 You will be aware from the press and television that there have been a number of bomb explosions and killings in Sri Lanka .\n",
      "---\n",
      "8 Wie Sie sicher aus der Presse und dem Fernsehen wissen , gab es in Sri Lanka mehrere Bombenexplosionen mit zahlreichen Toten .\n",
      "\n",
      "7 One of the people assassinated very recently in Sri Lanka was Mr Kumar Ponnambalam , who had visited the European Parliament just a few months ago .\n",
      "---\n",
      "9 Zu den Attentatsopfern , die es in jüngster Zeit in Sri Lanka zu beklagen gab , zählt auch Herr Kumar Ponnambalam , der dem Europäischen Parlament erst vor wenigen Monaten einen Besuch abgestattet hatte .\n",
      "\n",
      "8 Would it be appropriate for you , Madam President , to write a letter to the Sri Lankan President expressing Parliament 's regret at his and the other violent deaths in Sri Lanka and urging her to do everything she possibly can to seek a peaceful reconciliation to a very difficult situation ?\n",
      "---\n",
      "10 Wäre es angemessen , wenn Sie , Frau Präsidentin , der Präsidentin von Sri Lanka in einem Schreiben das Bedauern des Parlaments zum gewaltsamen Tod von Herrn Ponnambalam und anderen Bürgern von Sri Lanka übermitteln und sie auffordern würden , alles in ihrem Kräften stehende zu tun , um nach einer friedlichen Lösung dieser sehr schwierigen Situation zu suchen ?\n",
      "\n",
      "9 Yes , Mr Evans , I feel an initiative of the type you have just suggested would be entirely appropriate .\n",
      "---\n",
      "11 Ja , Herr Evans , ich denke , daß eine derartige Initiative durchaus angebracht ist .\n",
      "\n"
     ]
    }
   ],
   "source": [
    "align_and_show(0, 10, 12)"
   ]
  },
  {
   "cell_type": "markdown",
   "metadata": {},
   "source": [
    "### Run the alignment on the first 10 English sentences vs the first 9 German sentences of Chapter 1"
   ]
  },
  {
   "cell_type": "code",
   "execution_count": 191,
   "metadata": {
    "collapsed": false
   },
   "outputs": [
    {
     "name": "stdout",
     "output_type": "stream",
     "text": [
      "Alignment of sentences English[1][0:10] to sentences German[1][0:9]:\n",
      "[(0, 0), (1, 1), (2, 2), (3, 3), (4, 4), (5, 5), (6, 6), (7, 7), (8, 8), (9, 8)]\n",
      "Mappings from English sentences\n",
      "0 -> [0]\n",
      "1 -> [1]\n",
      "2 -> [2]\n",
      "3 -> [3]\n",
      "4 -> [4]\n",
      "5 -> [5]\n",
      "6 -> [6]\n",
      "7 -> [7]\n",
      "8 -> [8]\n",
      "9 -> [8]\n",
      "\n",
      "Text of the aligned sentences:\n",
      "0 Agenda The next item is the verification of the final version of the draft agenda as drawn up by the Conference of Presidents at its meeting of 13 January pursuant to Rule 110 of the Rules of Procedure .\n",
      "---\n",
      "0 Arbeitsplan Nach der Tagesordnung folgt die Prüfung des endgültigen Entwurfs der Tagesordnung , wie er nach Artikel 110 der Geschäftsordnung am Donnerstag , dem 13. Januar von der Konferenz der Präsidenten festgelegt wurde .\n",
      "\n",
      "1 No amendments have been proposed relating to Monday and Tuesday .\n",
      "---\n",
      "1 Zu Montag und Dienstag liegen keine Änderungen vor .\n",
      "\n",
      "2 Relating to Wednesday : The Group of the Party of European Socialists requests that a Commission statement be included on its strategic objectives for the next five years and on the administrative reform of the Commission .\n",
      "---\n",
      "2 Zum Mittwoch : Die Sozialdemokratische Fraktion beantragt , eine Erklärung der Kommission über ihre strategischen Ziele für die nächsten fünf Jahre sowie über die Verwaltungsreform der Kommission in die Tagesordnung aufzunehmen .\n",
      "\n",
      "3 I would like Mr Barón Crespo , who made the request , to speak to propose it .\n",
      "---\n",
      "3 Ich bitte den Antragsteller , Herrn Barón Crespo , seinen Antrag zu begründen , falls er dies wünscht .\n",
      "\n",
      "4 That is , if he so wishes , of course .\n",
      "---\n",
      "4 Danach verfahren wir wie üblich : ein Redner dafür , einer dagegen .\n",
      "\n",
      "5 Then we shall follow the usual procedure , hearing one speaker in favour and one against .\n",
      "---\n",
      "5 Frau Präsidentin !\n",
      "\n",
      "6 Madam President , the presentation of the Prodi Commission ' s political programme for the whole legislature was initially a proposal by the Group of the Party of European Socialists which was unanimously approved by the Conference of Presidents in September and which was also explicitly accepted by President Prodi , who reiterated his commitment in his inaugural speech .\n",
      "---\n",
      "6 Die Vorstellung des politischen Programms der Kommission Prodi für die gesamte Wahlperiode ging auf einen Vorschlag der Fraktion der Sozialdemokratischen Partei Europas zurück , der die einhellige Billigung der Konferenz der Präsidenten im September und auch die ausdrückliche Zustimmung von Präsident Prodi fand , der seine Zusage in seiner Antrittsrede bekräftigte .\n",
      "\n",
      "7 This commitment is important because the Commission is a body with a monopoly of initiative in accordance with the Treaties and , therefore , basically dictates this Parliament ' s political and legislative activity for the next five years .\n",
      "---\n",
      "7 Diese Zusage ist insofern von Bedeutung , als die Kommission ein Organ ist , das nach den Verträgen das Initiativmonopol besitzt und somit grundlegend die politische und legislative Tätigkeit dieses Parlaments in den nächsten fünf Jahren gestaltet .\n",
      "\n",
      "8 I would also like to point out , Madam President , that this Parliament voted to express its confidence in President Prodi during the previous legislature .\n",
      "---\n",
      "8 Ich möchte auch daran erinnern , daß dieses Parlament in der vorangegangenen Wahlperiode Präsident Prodi zweimal sein Vertrauen ausgesprochen hat ; in dieser Wahlperiode sprach es ihm im Juli erneut sein Vertrauen aus , und dann , als die neue Kommission im Amt war , gab es im September erneut ein Vertrauensvotum für die Kommission insgesamt .\n",
      "\n",
      "9 It did so again during this legislature , in July , and then , in September , it voted once more to approve the whole Commission .\n",
      "---\n",
      "8 Ich möchte auch daran erinnern , daß dieses Parlament in der vorangegangenen Wahlperiode Präsident Prodi zweimal sein Vertrauen ausgesprochen hat ; in dieser Wahlperiode sprach es ihm im Juli erneut sein Vertrauen aus , und dann , als die neue Kommission im Amt war , gab es im September erneut ein Vertrauensvotum für die Kommission insgesamt .\n",
      "\n"
     ]
    }
   ],
   "source": [
    "align_and_show(1, 10, 9)"
   ]
  },
  {
   "cell_type": "markdown",
   "metadata": {},
   "source": [
    "### Run the alignment on the first 7 English sentences vs the first 8 German sentences of Chapter 2"
   ]
  },
  {
   "cell_type": "code",
   "execution_count": 193,
   "metadata": {
    "collapsed": false
   },
   "outputs": [
    {
     "name": "stdout",
     "output_type": "stream",
     "text": [
      "Alignment of sentences English[2][0:7] to sentences German[2][0:8]:\n",
      "[(0, 0), (1, 1), (1, 2), (2, 3), (3, 4), (4, 5), (5, 6), (6, 7)]\n",
      "Mappings from English sentences\n",
      "0 -> [0]\n",
      "1 -> [1, 2]\n",
      "2 -> [3]\n",
      "3 -> [4]\n",
      "4 -> [5]\n",
      "5 -> [6]\n",
      "6 -> [7]\n",
      "\n",
      "Text of the aligned sentences:\n",
      "0 Safety advisers for the transport of dangerous goods The next item is the report ( A5-0105 / 1999 ) by Mr Koch , on behalf of the Committee on Regional Policy , Transport and Tourism , on the common position adopted by the Council with a view to adopting a European Parliament and Council directive on the harmonisation of examination requirements for safety advisers for the transport of dangerous goods by road , rail or inland waterways ( C5-0208 / 1999 - 1998 / 0106 ( COD ) ) .\n",
      "---\n",
      "0 Sicherheitsberater für den Gefahrguttransport Nach der Tagesordnung folgt der Bericht ( A5-0105 / 1999 ) von Herrn Koch im Namen des Ausschusses für Regionalpolitik , Verkehr und Fremdenverkehr über den Gemeinsamen Standpunkt des Rates im Hinblick auf den Erlaß der Richtlinie des Europäischen Parlaments und des Rates über die Mindestanforderungen für die Prüfung der Sicherheitsberater für die Beförderung gefährlicher Güter auf Straße , Schiene oder Binnenwasserstraßen ( C5-0208 / 1999 - 1998 / 0106 ( COD ) ) .\n",
      "\n",
      "1 Commissioner , Madam President , ladies and gentlemen , I can be quite frank in saying that I welcome the Council 's common position on harmonising the training of safety advisers for the transport of dangerous goods by road , rail or inland waterway .\n",
      "---\n",
      "1 Verehrte Frau Kommissarin , verehrte Präsidentin , liebe Kolleginnen und Kollegen !\n",
      "2 Ich begrüße den Gemeinsamen Standpunkt des Rates zur Harmonisierung der Ausbildung von Sicherheitsberatern für die Beförderung gefährlicher Güter auf Straße , Schiene oder Binnenwasserstraße unumwunden .\n",
      "\n",
      "2 Firstly , we needed to take action on a formal level in order to meet the requirements of Directive 96 / 35 / EC , which obliges the Member States to appoint safety advisers and to organise the training , instruction and examination of these people but does not explain this explicitly .\n",
      "---\n",
      "3 Erstens : Wir mußten formal tätig werden , um den Forderungen der Richtlinie 96 / 35 / EG gerecht zu werden , die die Mitgliedstaaten zur Einsetzung von Gefahrgutbeauftragten bzw. Sicherheitsberatern sowie zur Organisation von Ausbildung , Schulung und Prüfung eben dieser Personen verpflichtet , ohne dies explizit auszuführen .\n",
      "\n",
      "3 Secondly , by adopting this directive we achieve a ) an increase in safety when dangerous goods are both transported and transhipped ; b ) a reduction in distortions of competition resulting from wide variations in national training structures and training costs and c ) equal opportunities for safety advisers on the European labour market .\n",
      "---\n",
      "4 Zweitens : Wir erzielen mit dieser Richtlinie a ) ein Mehr an Sicherheit , sowohl bei der Beförderung als auch beim Umschlag von gefährlichen Gütern ; b ) einen Abbau von Wettbewerbsverzerrungen infolge unterschiedlichster nationaler Ausbildungsstrukturen und Ausbildungskosten sowie c ) die Herstellung der Chancengleichheit von Sicherheitsberatern auf dem europäischen Arbeitsmarkt .\n",
      "\n",
      "4 Thirdly , this directive , as it currently stands in the common position , guarantees - in particular because it confines itself exclusively to minimum standards - a high degree of flexibility and modest regulation by the European Union ; by adopting it we contribute to the Member States ' bearing a high level of individual responsibility .\n",
      "---\n",
      "5 Drittens garantieren wir mit der Richtlinie , so wie sie jetzt als Gemeinsamer Standpunkt vorliegt , insbesondere da sie sich ausschließlich auf Mindestnormen beschränkt , einen hohen Flexibilitätsgrad und geringe Reglementierung durch die Europäische Union , und wir tragen zur hohen Eigenverantwortung der Mitgliedstaaten bei .\n",
      "\n",
      "5 All of this is in accordance with the principle of subsidiarity and is therefore to be greatly welcomed .\n",
      "---\n",
      "6 All dies ist im Sinne der Subsidiarität außerordentlich zu begrüßen .\n",
      "\n",
      "6 Our amendments from the first reading have , I believe , been taken into account very satisfactorily .\n",
      "---\n",
      "7 Unsere Änderungsanträge aus der ersten Lesung halte ich für sehr zufriedenstellend berücksichtigt .\n",
      "\n"
     ]
    }
   ],
   "source": [
    "align_and_show(2, 7, 8)"
   ]
  },
  {
   "cell_type": "code",
   "execution_count": null,
   "metadata": {
    "collapsed": true
   },
   "outputs": [],
   "source": []
  }
 ],
 "metadata": {
  "kernelspec": {
   "display_name": "Python 3",
   "language": "python",
   "name": "python3"
  },
  "language_info": {
   "codemirror_mode": {
    "name": "ipython",
    "version": 3
   },
   "file_extension": ".py",
   "mimetype": "text/x-python",
   "name": "python",
   "nbconvert_exporter": "python",
   "pygments_lexer": "ipython3",
   "version": "3.5.2"
  }
 },
 "nbformat": 4,
 "nbformat_minor": 0
}
